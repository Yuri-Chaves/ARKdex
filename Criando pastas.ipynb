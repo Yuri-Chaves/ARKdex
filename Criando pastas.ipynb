{
 "cells": [
  {
   "cell_type": "code",
   "execution_count": 1,
   "id": "90861039",
   "metadata": {},
   "outputs": [],
   "source": [
    "import os\n",
    "import pathlib"
   ]
  },
  {
   "cell_type": "code",
   "execution_count": 11,
   "id": "697f2ff3",
   "metadata": {},
   "outputs": [
    {
     "name": "stdout",
     "output_type": "stream",
     "text": [
      "['Achatina', 'Allosaurus', 'Andrewsarchus', 'Ankylosaurus', 'Archaeopteryx', 'Argentavis', 'Arthropleura', 'Baryonyx', 'Basilosaurus', 'Beelzebufo', 'Bloodstalker', 'Brontossaurus', 'Bulbdog', 'Carbonemys', 'Carnotauro', 'Chalicoterio', 'Compsognathus', 'Dilofossauro', 'Diplocaulus', 'Diplodocus', 'Direwolf', 'Dodo', 'Dodorex', 'Dung-beetle', 'Dunkleosteus', 'Electrophorus-eel', 'Equus', 'Featherlight', 'Gasbags', 'Gigantossauro', 'Glowtail', 'Griffin', 'Hiena', 'Ictiosaurus', 'Iguanodon', 'Kairuku', 'Kaprosuchus', 'Lystrosaurus', 'Magmasaur', 'Mammoth', 'Managarmr', 'Megalania', 'Megalodon', 'Megalosaurus', 'Megatherium', 'Mosassauro', 'Oviraptor', 'Ovis', 'Pachyrhinosaurus', 'Paquicefalossauro', 'Paraceratherium', 'Parasaurolophus', 'Pelagornis', 'Phiomia', 'Plesio-elasmo', 'Pteranodon-ptero', 'Quetzalcoatlus', 'Ravager', 'Reaper', 'Rock-drake', 'Rock-elemental', 'Sabertooth', 'Shinehorn', 'Snow-owl', 'Spinosaurus', 'Stegosaurus', 'Tapejara', 'Terror-bird', 'Therizinosaurus', 'Thylacoleo', 'Titanoboa', 'Titanomyrma', 'Titanosaur-titano', 'Triceratops', 'Trilobite', 'Tusoteuthis', 'Tyranossaurus-rex', 'Utahraptor', 'Velonasaur', 'Wyvern', 'Yutiranos']\n"
     ]
    }
   ],
   "source": [
    "dinos = 'achatina allosaurus andrewsarchus ankylosaurus archaeopteryx argentavis arthropleura baryonyx basilosaurus beelzebufo bloodstalker brontossaurus bulbdog carbonemys carnotauro chalicoterio compsognathus dilofossauro diplocaulus diplodocus direwolf dodo dodorex dung-beetle dunkleosteus electrophorus-eel equus featherlight gasbags gigantossauro glowtail griffin hiena ictiosaurus iguanodon kairuku kaprosuchus lystrosaurus magmasaur mammoth managarmr megalania megalodon megalosaurus megatherium mosassauro oviraptor ovis pachyrhinosaurus paquicefalossauro paraceratherium parasaurolophus pelagornis phiomia plesio-elasmo pteranodon-ptero quetzalcoatlus ravager reaper rock-drake rock-elemental sabertooth shinehorn snow-owl spinosaurus stegosaurus tapejara terror-bird therizinosaurus thylacoleo titanoboa titanomyrma titanosaur-titano triceratops trilobite tusoteuthis tyranossaurus-rex utahraptor velonasaur wyvern yutiranos'\n",
    "list_dinos = dinos.split()\n",
    "aux_list = []\n",
    "for dino in list_dinos:\n",
    "    dino = dino.capitalize()\n",
    "    aux_list.append(dino)\n",
    "list_dinos = aux_list\n",
    "print(list_dinos)"
   ]
  },
  {
   "cell_type": "code",
   "execution_count": 12,
   "id": "a85bf2a2",
   "metadata": {},
   "outputs": [],
   "source": [
    "caminho = pathlib.Path(r'C:\\Users\\GAMER\\Favorites\\Web_programs\\ARKdex\\Dinopedia')\n",
    "arq_past_dinos = caminho.iterdir()\n",
    "lista_nomes = [arquivo.name for arquivo in arq_past_dinos]\n",
    "for dino in list_dinos:\n",
    "    if dino not in lista_nomes:\n",
    "        novo_dino = caminho / dino\n",
    "        novo_dino.mkdir()"
   ]
  }
 ],
 "metadata": {
  "kernelspec": {
   "display_name": "Python 3 (ipykernel)",
   "language": "python",
   "name": "python3"
  },
  "language_info": {
   "codemirror_mode": {
    "name": "ipython",
    "version": 3
   },
   "file_extension": ".py",
   "mimetype": "text/x-python",
   "name": "python",
   "nbconvert_exporter": "python",
   "pygments_lexer": "ipython3",
   "version": "3.9.7"
  }
 },
 "nbformat": 4,
 "nbformat_minor": 5
}
